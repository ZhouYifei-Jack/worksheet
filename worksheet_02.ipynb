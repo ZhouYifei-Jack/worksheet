{
 "cells": [
  {
   "cell_type": "markdown",
   "metadata": {},
   "source": [
    "# Worksheet 02\n",
    "\n",
    "Name:  Yifei Zhou\n",
    "UID: u25549843\n",
    "\n",
    "### Topics\n",
    "\n",
    "- Effective Programming\n",
    "\n",
    "### Effective Programming\n",
    "\n",
    "a) What is a drawback of the top down approach?"
   ]
  },
  {
   "cell_type": "markdown",
   "metadata": {},
   "source": [
    "It can limit creativity and slow down problem-solving  \n",
    "Error could be possible."
   ]
  },
  {
   "cell_type": "markdown",
   "metadata": {},
   "source": [
    "b) What is a drawback of the bottom up approach?"
   ]
  },
  {
   "cell_type": "markdown",
   "metadata": {},
   "source": [
    "Result could be affected as some workers lack the needed experience to execute some tasks successfully.  \n",
    "Lack of desired unity among workers with differences in objectives resulting to endangering the result."
   ]
  },
  {
   "cell_type": "markdown",
   "metadata": {},
   "source": [
    "c) What are 3 things you can do to have a better debugging experience?"
   ]
  },
  {
   "cell_type": "markdown",
   "metadata": {},
   "source": [
    "1.read the error carefully and understand it \n",
    "2.reread the code and check\n",
    "3.look online"
   ]
  },
  {
   "cell_type": "markdown",
   "metadata": {},
   "source": [
    "d) Follow along with the live coding. You can write your code here:"
   ]
  },
  {
   "cell_type": "code",
   "execution_count": 4,
   "metadata": {},
   "outputs": [
    {
     "name": "stdout",
     "output_type": "stream",
     "text": [
      "Q _ _ _ _ _ _ _ \n",
      "_ _ _ _ Q _ _ _ \n",
      "_ _ _ _ _ _ _ Q \n",
      "_ _ _ _ _ Q _ _ \n",
      "_ _ Q _ _ _ _ _ \n",
      "_ _ _ _ _ _ Q _ \n",
      "_ Q _ _ _ _ _ _ \n",
      "_ _ _ Q _ _ _ _ \n",
      "\n"
     ]
    }
   ],
   "source": [
    "class Board:\n",
    "\n",
    "    def __init__(self) -> None:\n",
    "        self.board = [[\"_\" for _ in range(8)] for _ in range(8)]\n",
    "        \n",
    "\n",
    "    def __repr__(self):\n",
    "        res = \"\"\n",
    "        for row in self.board:\n",
    "            for col in row:\n",
    "                res += col\n",
    "                res += \" \"\n",
    "            res += \"\\n\"\n",
    "        return res\n",
    "    \n",
    "    def search(self):\n",
    "        row = 0\n",
    "        col = 0\n",
    "\n",
    "\n",
    "        while row >=0 and row <8:\n",
    "            if row < 8:\n",
    "                if self.isLeagal(row,col):\n",
    "                    self.setQueenAt(row,col)\n",
    "                    row += 1\n",
    "                    col = 0\n",
    "                else:\n",
    "                    col += 1\n",
    "                    while col >= 8:\n",
    "                        col = self.getQueenOn(row - 1)\n",
    "                        self.unsetQueenOn(row - 1)\n",
    "                        col += 1\n",
    "                        row -= 1\n",
    "            else:\n",
    "                print(\"found solution\")\n",
    "                print(self)\n",
    "                while col >= 8:\n",
    "                        col = self.getQueenOn(row - 1)\n",
    "                        self.unsetQueenOn(row - 1)\n",
    "                        col += 1\n",
    "                        row -= 1\n",
    "        print(self)\n",
    "        #print(\"No more solution\")     \n",
    "\n",
    "\n",
    "\n",
    "    def isLegalRow(self,row,col):\n",
    "        for j in range(len(self.board)):\n",
    "            if self.board[row][j] == \"Q\":\n",
    "                return False\n",
    "        return True\n",
    "        \n",
    "    def isLegalCol(self,row,col):\n",
    "        for i in range(len(self.board)):\n",
    "            if self.board[i][col] == \"Q\":\n",
    "                return False\n",
    "        return True\n",
    "\n",
    "    def isOnBoard(self,row,col):\n",
    "        return row>= 0 and row < 8 and col >=0 and col <8    \n",
    "        \n",
    "    def isLegalDiag(self,row,col):\n",
    "        for i in range(len(self.board)):\n",
    "            if self.isOnBoard(row-i, col-i) and self.board[row-i][col-i] == \"Q\":\n",
    "                return False\n",
    "            if self.isOnBoard(row-i, col+i) and self.board[row-i][col+i] == \"Q\":\n",
    "                return False\n",
    "            if self.isOnBoard(row+i, col-i) and self.board[row+i][col-i] == \"Q\":\n",
    "                return False\n",
    "            if self.isOnBoard(row+i, col+i) and self.board[row+i][col+i] == \"Q\":\n",
    "                return False\n",
    "        return True\n",
    "\n",
    "\n",
    "    def isLeagal (self, row, col):\n",
    "        if not self.isLegalRow(row,col):\n",
    "            return False\n",
    "        if not self.isLegalCol(row,col):\n",
    "            return False\n",
    "        if not self.isLegalDiag(row,col):\n",
    "            return False\n",
    "        return True \n",
    "    \n",
    "\n",
    "\n",
    "    def setQueenAt(self, row, col):\n",
    "        self.board[row][col] = \"Q\"\n",
    "\n",
    "    def unsetQueenOn(self, row):\n",
    "        self.board[row] = [\"_\" for _ in range(8)]\n",
    "\n",
    "    def getQueenOn(self, row):\n",
    "        for col in range(len(self.board)):\n",
    "            if self.board[row][col] == \"Q\":\n",
    "                return col\n",
    "        return ValueError(\"program Error\")\n",
    "\n",
    "\n",
    "\n",
    "my_board = Board()\n",
    "my_board.search()\n",
    "\n",
    " "
   ]
  },
  {
   "cell_type": "code",
   "execution_count": null,
   "metadata": {},
   "outputs": [],
   "source": []
  },
  {
   "cell_type": "code",
   "execution_count": null,
   "metadata": {},
   "outputs": [],
   "source": []
  }
 ],
 "metadata": {
  "kernelspec": {
   "display_name": "Python 3 (ipykernel)",
   "language": "python",
   "name": "python3"
  },
  "language_info": {
   "codemirror_mode": {
    "name": "ipython",
    "version": 3
   },
   "file_extension": ".py",
   "mimetype": "text/x-python",
   "name": "python",
   "nbconvert_exporter": "python",
   "pygments_lexer": "ipython3",
   "version": "3.11.4"
  },
  "vscode": {
   "interpreter": {
    "hash": "76ca05dc3ea24b2e3b98cdb7774adfbb40773424bf5109b477fd793f623715af"
   }
  }
 },
 "nbformat": 4,
 "nbformat_minor": 2
}
